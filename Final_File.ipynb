{
 "cells": [
  {
   "cell_type": "markdown",
   "id": "-_vg2TZt_At_",
   "metadata": {
    "id": "-_vg2TZt_At_"
   },
   "source": [
    "**Import the libraries**"
   ]
  },
  {
   "cell_type": "code",
   "execution_count": 1,
   "id": "a12039ac",
   "metadata": {
    "id": "a12039ac"
   },
   "outputs": [],
   "source": [
    "import pandas as pd\n",
    "import matplotlib.pyplot as plt\n",
    "import seaborn as sns\n",
    "import plotly.express as px"
   ]
  },
  {
   "cell_type": "markdown",
   "id": "6OfXNPXC_Ly7",
   "metadata": {
    "id": "6OfXNPXC_Ly7"
   },
   "source": [
    "**Convert the dataset onto a pandas dataframe**"
   ]
  },
  {
   "cell_type": "code",
   "execution_count": 2,
   "id": "bf3c3854",
   "metadata": {
    "id": "bf3c3854"
   },
   "outputs": [],
   "source": [
    "df = pd.read_csv('survey_results_public.csv')"
   ]
  },
  {
   "cell_type": "markdown",
   "id": "HKEgPeGQ_Uwf",
   "metadata": {
    "id": "HKEgPeGQ_Uwf"
   },
   "source": [
    "**print the first five rows of the dataframe**"
   ]
  },
  {
   "cell_type": "code",
   "execution_count": 3,
   "id": "600ecd6a",
   "metadata": {
    "colab": {
     "base_uri": "https://localhost:8080/",
     "height": 751
    },
    "id": "600ecd6a",
    "outputId": "05df5741-b8ea-4f42-fe2b-6a5138521c90"
   },
   "outputs": [
    {
     "data": {
      "text/html": [
       "<div>\n",
       "<style scoped>\n",
       "    .dataframe tbody tr th:only-of-type {\n",
       "        vertical-align: middle;\n",
       "    }\n",
       "\n",
       "    .dataframe tbody tr th {\n",
       "        vertical-align: top;\n",
       "    }\n",
       "\n",
       "    .dataframe thead th {\n",
       "        text-align: right;\n",
       "    }\n",
       "</style>\n",
       "<table border=\"1\" class=\"dataframe\">\n",
       "  <thead>\n",
       "    <tr style=\"text-align: right;\">\n",
       "      <th></th>\n",
       "      <th>ResponseId</th>\n",
       "      <th>MainBranch</th>\n",
       "      <th>Employment</th>\n",
       "      <th>Country</th>\n",
       "      <th>US_State</th>\n",
       "      <th>UK_Country</th>\n",
       "      <th>EdLevel</th>\n",
       "      <th>Age1stCode</th>\n",
       "      <th>LearnCode</th>\n",
       "      <th>YearsCode</th>\n",
       "      <th>...</th>\n",
       "      <th>Age</th>\n",
       "      <th>Gender</th>\n",
       "      <th>Trans</th>\n",
       "      <th>Sexuality</th>\n",
       "      <th>Ethnicity</th>\n",
       "      <th>Accessibility</th>\n",
       "      <th>MentalHealth</th>\n",
       "      <th>SurveyLength</th>\n",
       "      <th>SurveyEase</th>\n",
       "      <th>ConvertedCompYearly</th>\n",
       "    </tr>\n",
       "  </thead>\n",
       "  <tbody>\n",
       "    <tr>\n",
       "      <th>0</th>\n",
       "      <td>1</td>\n",
       "      <td>I am a developer by profession</td>\n",
       "      <td>Independent contractor, freelancer, or self-em...</td>\n",
       "      <td>Slovakia</td>\n",
       "      <td>NaN</td>\n",
       "      <td>NaN</td>\n",
       "      <td>Secondary school (e.g. American high school, G...</td>\n",
       "      <td>18 - 24 years</td>\n",
       "      <td>Coding Bootcamp;Other online resources (ex: vi...</td>\n",
       "      <td>NaN</td>\n",
       "      <td>...</td>\n",
       "      <td>25-34 years old</td>\n",
       "      <td>Man</td>\n",
       "      <td>No</td>\n",
       "      <td>Straight / Heterosexual</td>\n",
       "      <td>White or of European descent</td>\n",
       "      <td>None of the above</td>\n",
       "      <td>None of the above</td>\n",
       "      <td>Appropriate in length</td>\n",
       "      <td>Easy</td>\n",
       "      <td>62268.0</td>\n",
       "    </tr>\n",
       "    <tr>\n",
       "      <th>1</th>\n",
       "      <td>2</td>\n",
       "      <td>I am a student who is learning to code</td>\n",
       "      <td>Student, full-time</td>\n",
       "      <td>Netherlands</td>\n",
       "      <td>NaN</td>\n",
       "      <td>NaN</td>\n",
       "      <td>Bachelor’s degree (B.A., B.S., B.Eng., etc.)</td>\n",
       "      <td>11 - 17 years</td>\n",
       "      <td>Other online resources (ex: videos, blogs, etc...</td>\n",
       "      <td>7</td>\n",
       "      <td>...</td>\n",
       "      <td>18-24 years old</td>\n",
       "      <td>Man</td>\n",
       "      <td>No</td>\n",
       "      <td>Straight / Heterosexual</td>\n",
       "      <td>White or of European descent</td>\n",
       "      <td>None of the above</td>\n",
       "      <td>None of the above</td>\n",
       "      <td>Appropriate in length</td>\n",
       "      <td>Easy</td>\n",
       "      <td>NaN</td>\n",
       "    </tr>\n",
       "    <tr>\n",
       "      <th>2</th>\n",
       "      <td>3</td>\n",
       "      <td>I am not primarily a developer, but I write co...</td>\n",
       "      <td>Student, full-time</td>\n",
       "      <td>Russian Federation</td>\n",
       "      <td>NaN</td>\n",
       "      <td>NaN</td>\n",
       "      <td>Bachelor’s degree (B.A., B.S., B.Eng., etc.)</td>\n",
       "      <td>11 - 17 years</td>\n",
       "      <td>Other online resources (ex: videos, blogs, etc...</td>\n",
       "      <td>NaN</td>\n",
       "      <td>...</td>\n",
       "      <td>18-24 years old</td>\n",
       "      <td>Man</td>\n",
       "      <td>No</td>\n",
       "      <td>Prefer not to say</td>\n",
       "      <td>Prefer not to say</td>\n",
       "      <td>None of the above</td>\n",
       "      <td>None of the above</td>\n",
       "      <td>Appropriate in length</td>\n",
       "      <td>Easy</td>\n",
       "      <td>NaN</td>\n",
       "    </tr>\n",
       "    <tr>\n",
       "      <th>3</th>\n",
       "      <td>4</td>\n",
       "      <td>I am a developer by profession</td>\n",
       "      <td>Employed full-time</td>\n",
       "      <td>Austria</td>\n",
       "      <td>NaN</td>\n",
       "      <td>NaN</td>\n",
       "      <td>Master’s degree (M.A., M.S., M.Eng., MBA, etc.)</td>\n",
       "      <td>11 - 17 years</td>\n",
       "      <td>NaN</td>\n",
       "      <td>NaN</td>\n",
       "      <td>...</td>\n",
       "      <td>35-44 years old</td>\n",
       "      <td>Man</td>\n",
       "      <td>No</td>\n",
       "      <td>Straight / Heterosexual</td>\n",
       "      <td>White or of European descent</td>\n",
       "      <td>I am deaf / hard of hearing</td>\n",
       "      <td>NaN</td>\n",
       "      <td>Appropriate in length</td>\n",
       "      <td>Neither easy nor difficult</td>\n",
       "      <td>NaN</td>\n",
       "    </tr>\n",
       "    <tr>\n",
       "      <th>4</th>\n",
       "      <td>5</td>\n",
       "      <td>I am a developer by profession</td>\n",
       "      <td>Independent contractor, freelancer, or self-em...</td>\n",
       "      <td>United Kingdom of Great Britain and Northern I...</td>\n",
       "      <td>NaN</td>\n",
       "      <td>England</td>\n",
       "      <td>Master’s degree (M.A., M.S., M.Eng., MBA, etc.)</td>\n",
       "      <td>5 - 10 years</td>\n",
       "      <td>Friend or family member</td>\n",
       "      <td>17</td>\n",
       "      <td>...</td>\n",
       "      <td>25-34 years old</td>\n",
       "      <td>Man</td>\n",
       "      <td>No</td>\n",
       "      <td>NaN</td>\n",
       "      <td>White or of European descent</td>\n",
       "      <td>None of the above</td>\n",
       "      <td>NaN</td>\n",
       "      <td>Appropriate in length</td>\n",
       "      <td>Easy</td>\n",
       "      <td>NaN</td>\n",
       "    </tr>\n",
       "  </tbody>\n",
       "</table>\n",
       "<p>5 rows × 48 columns</p>\n",
       "</div>"
      ],
      "text/plain": [
       "   ResponseId                                         MainBranch  \\\n",
       "0           1                     I am a developer by profession   \n",
       "1           2             I am a student who is learning to code   \n",
       "2           3  I am not primarily a developer, but I write co...   \n",
       "3           4                     I am a developer by profession   \n",
       "4           5                     I am a developer by profession   \n",
       "\n",
       "                                          Employment  \\\n",
       "0  Independent contractor, freelancer, or self-em...   \n",
       "1                                 Student, full-time   \n",
       "2                                 Student, full-time   \n",
       "3                                 Employed full-time   \n",
       "4  Independent contractor, freelancer, or self-em...   \n",
       "\n",
       "                                             Country US_State UK_Country  \\\n",
       "0                                           Slovakia      NaN        NaN   \n",
       "1                                        Netherlands      NaN        NaN   \n",
       "2                                 Russian Federation      NaN        NaN   \n",
       "3                                            Austria      NaN        NaN   \n",
       "4  United Kingdom of Great Britain and Northern I...      NaN    England   \n",
       "\n",
       "                                             EdLevel     Age1stCode  \\\n",
       "0  Secondary school (e.g. American high school, G...  18 - 24 years   \n",
       "1       Bachelor’s degree (B.A., B.S., B.Eng., etc.)  11 - 17 years   \n",
       "2       Bachelor’s degree (B.A., B.S., B.Eng., etc.)  11 - 17 years   \n",
       "3    Master’s degree (M.A., M.S., M.Eng., MBA, etc.)  11 - 17 years   \n",
       "4    Master’s degree (M.A., M.S., M.Eng., MBA, etc.)   5 - 10 years   \n",
       "\n",
       "                                           LearnCode YearsCode  ...  \\\n",
       "0  Coding Bootcamp;Other online resources (ex: vi...       NaN  ...   \n",
       "1  Other online resources (ex: videos, blogs, etc...         7  ...   \n",
       "2  Other online resources (ex: videos, blogs, etc...       NaN  ...   \n",
       "3                                                NaN       NaN  ...   \n",
       "4                            Friend or family member        17  ...   \n",
       "\n",
       "               Age Gender Trans                Sexuality  \\\n",
       "0  25-34 years old    Man    No  Straight / Heterosexual   \n",
       "1  18-24 years old    Man    No  Straight / Heterosexual   \n",
       "2  18-24 years old    Man    No        Prefer not to say   \n",
       "3  35-44 years old    Man    No  Straight / Heterosexual   \n",
       "4  25-34 years old    Man    No                      NaN   \n",
       "\n",
       "                      Ethnicity                Accessibility  \\\n",
       "0  White or of European descent            None of the above   \n",
       "1  White or of European descent            None of the above   \n",
       "2             Prefer not to say            None of the above   \n",
       "3  White or of European descent  I am deaf / hard of hearing   \n",
       "4  White or of European descent            None of the above   \n",
       "\n",
       "        MentalHealth           SurveyLength                  SurveyEase  \\\n",
       "0  None of the above  Appropriate in length                        Easy   \n",
       "1  None of the above  Appropriate in length                        Easy   \n",
       "2  None of the above  Appropriate in length                        Easy   \n",
       "3                NaN  Appropriate in length  Neither easy nor difficult   \n",
       "4                NaN  Appropriate in length                        Easy   \n",
       "\n",
       "  ConvertedCompYearly  \n",
       "0             62268.0  \n",
       "1                 NaN  \n",
       "2                 NaN  \n",
       "3                 NaN  \n",
       "4                 NaN  \n",
       "\n",
       "[5 rows x 48 columns]"
      ]
     },
     "execution_count": 3,
     "metadata": {},
     "output_type": "execute_result"
    }
   ],
   "source": [
    "df.head()"
   ]
  },
  {
   "cell_type": "markdown",
   "id": "6UrWyfiB_bFr",
   "metadata": {
    "id": "6UrWyfiB_bFr"
   },
   "source": [
    "**provide some insight about your data**"
   ]
  },
  {
   "cell_type": "code",
   "execution_count": 4,
   "id": "ac49f44d",
   "metadata": {
    "colab": {
     "base_uri": "https://localhost:8080/",
     "height": 300
    },
    "id": "ac49f44d",
    "outputId": "265af7dc-1668-48a9-f700-5ea009c7caee",
    "scrolled": true
   },
   "outputs": [
    {
     "data": {
      "text/html": [
       "<div>\n",
       "<style scoped>\n",
       "    .dataframe tbody tr th:only-of-type {\n",
       "        vertical-align: middle;\n",
       "    }\n",
       "\n",
       "    .dataframe tbody tr th {\n",
       "        vertical-align: top;\n",
       "    }\n",
       "\n",
       "    .dataframe thead th {\n",
       "        text-align: right;\n",
       "    }\n",
       "</style>\n",
       "<table border=\"1\" class=\"dataframe\">\n",
       "  <thead>\n",
       "    <tr style=\"text-align: right;\">\n",
       "      <th></th>\n",
       "      <th>ResponseId</th>\n",
       "      <th>CompTotal</th>\n",
       "      <th>ConvertedCompYearly</th>\n",
       "    </tr>\n",
       "  </thead>\n",
       "  <tbody>\n",
       "    <tr>\n",
       "      <th>count</th>\n",
       "      <td>83439.000000</td>\n",
       "      <td>4.718300e+04</td>\n",
       "      <td>4.684400e+04</td>\n",
       "    </tr>\n",
       "    <tr>\n",
       "      <th>mean</th>\n",
       "      <td>41720.000000</td>\n",
       "      <td>2.119407e+69</td>\n",
       "      <td>1.184262e+05</td>\n",
       "    </tr>\n",
       "    <tr>\n",
       "      <th>std</th>\n",
       "      <td>24086.908893</td>\n",
       "      <td>4.603702e+71</td>\n",
       "      <td>5.272944e+05</td>\n",
       "    </tr>\n",
       "    <tr>\n",
       "      <th>min</th>\n",
       "      <td>1.000000</td>\n",
       "      <td>0.000000e+00</td>\n",
       "      <td>1.000000e+00</td>\n",
       "    </tr>\n",
       "    <tr>\n",
       "      <th>25%</th>\n",
       "      <td>20860.500000</td>\n",
       "      <td>1.600000e+04</td>\n",
       "      <td>2.702500e+04</td>\n",
       "    </tr>\n",
       "    <tr>\n",
       "      <th>50%</th>\n",
       "      <td>41720.000000</td>\n",
       "      <td>6.700000e+04</td>\n",
       "      <td>5.621100e+04</td>\n",
       "    </tr>\n",
       "    <tr>\n",
       "      <th>75%</th>\n",
       "      <td>62579.500000</td>\n",
       "      <td>1.400000e+05</td>\n",
       "      <td>1.000000e+05</td>\n",
       "    </tr>\n",
       "    <tr>\n",
       "      <th>max</th>\n",
       "      <td>83439.000000</td>\n",
       "      <td>1.000000e+74</td>\n",
       "      <td>4.524131e+07</td>\n",
       "    </tr>\n",
       "  </tbody>\n",
       "</table>\n",
       "</div>"
      ],
      "text/plain": [
       "         ResponseId     CompTotal  ConvertedCompYearly\n",
       "count  83439.000000  4.718300e+04         4.684400e+04\n",
       "mean   41720.000000  2.119407e+69         1.184262e+05\n",
       "std    24086.908893  4.603702e+71         5.272944e+05\n",
       "min        1.000000  0.000000e+00         1.000000e+00\n",
       "25%    20860.500000  1.600000e+04         2.702500e+04\n",
       "50%    41720.000000  6.700000e+04         5.621100e+04\n",
       "75%    62579.500000  1.400000e+05         1.000000e+05\n",
       "max    83439.000000  1.000000e+74         4.524131e+07"
      ]
     },
     "execution_count": 4,
     "metadata": {},
     "output_type": "execute_result"
    }
   ],
   "source": [
    "df.describe()"
   ]
  },
  {
   "cell_type": "markdown",
   "id": "VVjnEdfz_lP6",
   "metadata": {
    "id": "VVjnEdfz_lP6"
   },
   "source": [
    "**reproduce the following**"
   ]
  },
  {
   "cell_type": "code",
   "execution_count": 5,
   "id": "63ca17b3",
   "metadata": {
    "colab": {
     "base_uri": "https://localhost:8080/"
    },
    "id": "63ca17b3",
    "outputId": "057f3d1d-63b1-44b9-b710-ebec2aca5aae"
   },
   "outputs": [
    {
     "name": "stdout",
     "output_type": "stream",
     "text": [
      "<class 'pandas.core.frame.DataFrame'>\n",
      "RangeIndex: 83439 entries, 0 to 83438\n",
      "Data columns (total 48 columns):\n",
      " #   Column                        Non-Null Count  Dtype  \n",
      "---  ------                        --------------  -----  \n",
      " 0   ResponseId                    83439 non-null  int64  \n",
      " 1   MainBranch                    83439 non-null  object \n",
      " 2   Employment                    83323 non-null  object \n",
      " 3   Country                       83439 non-null  object \n",
      " 4   US_State                      14920 non-null  object \n",
      " 5   UK_Country                    4418 non-null   object \n",
      " 6   EdLevel                       83126 non-null  object \n",
      " 7   Age1stCode                    83243 non-null  object \n",
      " 8   LearnCode                     82963 non-null  object \n",
      " 9   YearsCode                     81641 non-null  object \n",
      " 10  YearsCodePro                  61216 non-null  object \n",
      " 11  DevType                       66484 non-null  object \n",
      " 12  OrgSize                       60726 non-null  object \n",
      " 13  Currency                      61080 non-null  object \n",
      " 14  CompTotal                     47183 non-null  float64\n",
      " 15  CompFreq                      52150 non-null  object \n",
      " 16  LanguageHaveWorkedWith        82357 non-null  object \n",
      " 17  LanguageWantToWorkWith        76821 non-null  object \n",
      " 18  DatabaseHaveWorkedWith        69546 non-null  object \n",
      " 19  DatabaseWantToWorkWith        58299 non-null  object \n",
      " 20  PlatformHaveWorkedWith        52135 non-null  object \n",
      " 21  PlatformWantToWorkWith        41619 non-null  object \n",
      " 22  WebframeHaveWorkedWith        61707 non-null  object \n",
      " 23  WebframeWantToWorkWith        52095 non-null  object \n",
      " 24  MiscTechHaveWorkedWith        47055 non-null  object \n",
      " 25  MiscTechWantToWorkWith        38021 non-null  object \n",
      " 26  ToolsTechHaveWorkedWith       72537 non-null  object \n",
      " 27  ToolsTechWantToWorkWith       65480 non-null  object \n",
      " 28  NEWCollabToolsHaveWorkedWith  81234 non-null  object \n",
      " 29  NEWCollabToolsWantToWorkWith  73022 non-null  object \n",
      " 30  OpSys                         83294 non-null  object \n",
      " 31  NEWStuck                      83052 non-null  object \n",
      " 32  NEWSOSites                    83171 non-null  object \n",
      " 33  SOVisitFreq                   82413 non-null  object \n",
      " 34  SOAccount                     82525 non-null  object \n",
      " 35  SOPartFreq                    67553 non-null  object \n",
      " 36  SOComm                        82319 non-null  object \n",
      " 37  NEWOtherComms                 82828 non-null  object \n",
      " 38  Age                           82407 non-null  object \n",
      " 39  Gender                        82286 non-null  object \n",
      " 40  Trans                         80678 non-null  object \n",
      " 41  Sexuality                     73366 non-null  object \n",
      " 42  Ethnicity                     79464 non-null  object \n",
      " 43  Accessibility                 77603 non-null  object \n",
      " 44  MentalHealth                  76920 non-null  object \n",
      " 45  SurveyLength                  81711 non-null  object \n",
      " 46  SurveyEase                    81948 non-null  object \n",
      " 47  ConvertedCompYearly           46844 non-null  float64\n",
      "dtypes: float64(2), int64(1), object(45)\n",
      "memory usage: 30.6+ MB\n"
     ]
    }
   ],
   "source": [
    "df.info()"
   ]
  },
  {
   "cell_type": "markdown",
   "id": "uMI6trkT_tvJ",
   "metadata": {
    "id": "uMI6trkT_tvJ"
   },
   "source": [
    "**We want to convert the age entries onto float/int by grabbing the first part of the sting. Hint( build a function called age_convert)** "
   ]
  },
  {
   "cell_type": "code",
   "execution_count": 6,
   "id": "584f57a0",
   "metadata": {
    "id": "584f57a0"
   },
   "outputs": [],
   "source": [
    "def age_convert(age_string):\n",
    "    age_first_part = str(age_string).split('-')[0]\n",
    "    return age_first_part"
   ]
  },
  {
   "cell_type": "code",
   "execution_count": 7,
   "id": "94f0bfe3",
   "metadata": {
    "colab": {
     "base_uri": "https://localhost:8080/",
     "height": 35
    },
    "id": "94f0bfe3",
    "outputId": "44598b8c-a7f4-4f52-bd41-f99f7e40ae3f"
   },
   "outputs": [
    {
     "data": {
      "text/plain": [
       "'25'"
      ]
     },
     "execution_count": 7,
     "metadata": {},
     "output_type": "execute_result"
    }
   ],
   "source": [
    "age_convert('25-30')"
   ]
  },
  {
   "cell_type": "markdown",
   "id": "HVDiR6he_469",
   "metadata": {
    "id": "HVDiR6he_469"
   },
   "source": [
    "**Use lambda funtion to apply the age_convert funtion to the entire age column**"
   ]
  },
  {
   "cell_type": "code",
   "execution_count": 8,
   "id": "26ef5136",
   "metadata": {
    "id": "26ef5136"
   },
   "outputs": [],
   "source": [
    "df['Age'] = df['Age'].apply(lambda age_object: str(age_object).split('-')[0]) "
   ]
  },
  {
   "cell_type": "markdown",
   "id": "PfYEoEby_-lT",
   "metadata": {
    "id": "PfYEoEby_-lT"
   },
   "source": [
    "**Note that the age type is still an object type. Convert it to numberic**"
   ]
  },
  {
   "cell_type": "code",
   "execution_count": 9,
   "id": "5c720a5c",
   "metadata": {
    "id": "5c720a5c"
   },
   "outputs": [],
   "source": [
    "df['Age']= pd.to_numeric(df['Age'],errors='coerce')"
   ]
  },
  {
   "cell_type": "code",
   "execution_count": 10,
   "id": "99f7fa9f",
   "metadata": {
    "colab": {
     "base_uri": "https://localhost:8080/"
    },
    "id": "99f7fa9f",
    "outputId": "8c294d8f-ffed-4149-80fc-0faa183d7d67"
   },
   "outputs": [
    {
     "data": {
      "text/plain": [
       "dtype('float64')"
      ]
     },
     "execution_count": 10,
     "metadata": {},
     "output_type": "execute_result"
    }
   ],
   "source": [
    "df['Age'].dtypes"
   ]
  },
  {
   "cell_type": "markdown",
   "id": "9fWGQgICAEn-",
   "metadata": {
    "id": "9fWGQgICAEn-"
   },
   "source": [
    "**Describe the dataframe after converting the age column to numeric one**"
   ]
  },
  {
   "cell_type": "code",
   "execution_count": 11,
   "id": "47c6e05d",
   "metadata": {
    "colab": {
     "base_uri": "https://localhost:8080/",
     "height": 300
    },
    "id": "47c6e05d",
    "outputId": "02870473-ffc3-4f1c-b365-239877a1fde5"
   },
   "outputs": [
    {
     "data": {
      "text/html": [
       "<div>\n",
       "<style scoped>\n",
       "    .dataframe tbody tr th:only-of-type {\n",
       "        vertical-align: middle;\n",
       "    }\n",
       "\n",
       "    .dataframe tbody tr th {\n",
       "        vertical-align: top;\n",
       "    }\n",
       "\n",
       "    .dataframe thead th {\n",
       "        text-align: right;\n",
       "    }\n",
       "</style>\n",
       "<table border=\"1\" class=\"dataframe\">\n",
       "  <thead>\n",
       "    <tr style=\"text-align: right;\">\n",
       "      <th></th>\n",
       "      <th>ResponseId</th>\n",
       "      <th>CompTotal</th>\n",
       "      <th>Age</th>\n",
       "      <th>ConvertedCompYearly</th>\n",
       "    </tr>\n",
       "  </thead>\n",
       "  <tbody>\n",
       "    <tr>\n",
       "      <th>count</th>\n",
       "      <td>83439.000000</td>\n",
       "      <td>4.718300e+04</td>\n",
       "      <td>76035.000000</td>\n",
       "      <td>4.684400e+04</td>\n",
       "    </tr>\n",
       "    <tr>\n",
       "      <th>mean</th>\n",
       "      <td>41720.000000</td>\n",
       "      <td>2.119407e+69</td>\n",
       "      <td>27.221201</td>\n",
       "      <td>1.184262e+05</td>\n",
       "    </tr>\n",
       "    <tr>\n",
       "      <th>std</th>\n",
       "      <td>24086.908893</td>\n",
       "      <td>4.603702e+71</td>\n",
       "      <td>8.881559</td>\n",
       "      <td>5.272944e+05</td>\n",
       "    </tr>\n",
       "    <tr>\n",
       "      <th>min</th>\n",
       "      <td>1.000000</td>\n",
       "      <td>0.000000e+00</td>\n",
       "      <td>18.000000</td>\n",
       "      <td>1.000000e+00</td>\n",
       "    </tr>\n",
       "    <tr>\n",
       "      <th>25%</th>\n",
       "      <td>20860.500000</td>\n",
       "      <td>1.600000e+04</td>\n",
       "      <td>18.000000</td>\n",
       "      <td>2.702500e+04</td>\n",
       "    </tr>\n",
       "    <tr>\n",
       "      <th>50%</th>\n",
       "      <td>41720.000000</td>\n",
       "      <td>6.700000e+04</td>\n",
       "      <td>25.000000</td>\n",
       "      <td>5.621100e+04</td>\n",
       "    </tr>\n",
       "    <tr>\n",
       "      <th>75%</th>\n",
       "      <td>62579.500000</td>\n",
       "      <td>1.400000e+05</td>\n",
       "      <td>35.000000</td>\n",
       "      <td>1.000000e+05</td>\n",
       "    </tr>\n",
       "    <tr>\n",
       "      <th>max</th>\n",
       "      <td>83439.000000</td>\n",
       "      <td>1.000000e+74</td>\n",
       "      <td>55.000000</td>\n",
       "      <td>4.524131e+07</td>\n",
       "    </tr>\n",
       "  </tbody>\n",
       "</table>\n",
       "</div>"
      ],
      "text/plain": [
       "         ResponseId     CompTotal           Age  ConvertedCompYearly\n",
       "count  83439.000000  4.718300e+04  76035.000000         4.684400e+04\n",
       "mean   41720.000000  2.119407e+69     27.221201         1.184262e+05\n",
       "std    24086.908893  4.603702e+71      8.881559         5.272944e+05\n",
       "min        1.000000  0.000000e+00     18.000000         1.000000e+00\n",
       "25%    20860.500000  1.600000e+04     18.000000         2.702500e+04\n",
       "50%    41720.000000  6.700000e+04     25.000000         5.621100e+04\n",
       "75%    62579.500000  1.400000e+05     35.000000         1.000000e+05\n",
       "max    83439.000000  1.000000e+74     55.000000         4.524131e+07"
      ]
     },
     "execution_count": 11,
     "metadata": {},
     "output_type": "execute_result"
    }
   ],
   "source": [
    "df.describe()"
   ]
  },
  {
   "cell_type": "code",
   "execution_count": 12,
   "id": "0e1340ef",
   "metadata": {
    "colab": {
     "base_uri": "https://localhost:8080/",
     "height": 278
    },
    "id": "0e1340ef",
    "outputId": "cfed4d1c-e340-4bc7-b73c-1ae3ba220d01"
   },
   "outputs": [
    {
     "data": {
      "text/html": [
       "<div>\n",
       "<style scoped>\n",
       "    .dataframe tbody tr th:only-of-type {\n",
       "        vertical-align: middle;\n",
       "    }\n",
       "\n",
       "    .dataframe tbody tr th {\n",
       "        vertical-align: top;\n",
       "    }\n",
       "\n",
       "    .dataframe thead th {\n",
       "        text-align: right;\n",
       "    }\n",
       "</style>\n",
       "<table border=\"1\" class=\"dataframe\">\n",
       "  <thead>\n",
       "    <tr style=\"text-align: right;\">\n",
       "      <th></th>\n",
       "      <th>ResponseId</th>\n",
       "      <th>MainBranch</th>\n",
       "      <th>Employment</th>\n",
       "      <th>Country</th>\n",
       "      <th>US_State</th>\n",
       "      <th>UK_Country</th>\n",
       "      <th>EdLevel</th>\n",
       "      <th>Age1stCode</th>\n",
       "      <th>LearnCode</th>\n",
       "      <th>YearsCode</th>\n",
       "      <th>...</th>\n",
       "      <th>Age</th>\n",
       "      <th>Gender</th>\n",
       "      <th>Trans</th>\n",
       "      <th>Sexuality</th>\n",
       "      <th>Ethnicity</th>\n",
       "      <th>Accessibility</th>\n",
       "      <th>MentalHealth</th>\n",
       "      <th>SurveyLength</th>\n",
       "      <th>SurveyEase</th>\n",
       "      <th>ConvertedCompYearly</th>\n",
       "    </tr>\n",
       "  </thead>\n",
       "  <tbody>\n",
       "    <tr>\n",
       "      <th>0</th>\n",
       "      <td>1</td>\n",
       "      <td>I am a developer by profession</td>\n",
       "      <td>Independent contractor, freelancer, or self-em...</td>\n",
       "      <td>Slovakia</td>\n",
       "      <td>NaN</td>\n",
       "      <td>NaN</td>\n",
       "      <td>Secondary school (e.g. American high school, G...</td>\n",
       "      <td>18 - 24 years</td>\n",
       "      <td>Coding Bootcamp;Other online resources (ex: vi...</td>\n",
       "      <td>NaN</td>\n",
       "      <td>...</td>\n",
       "      <td>25.0</td>\n",
       "      <td>Man</td>\n",
       "      <td>No</td>\n",
       "      <td>Straight / Heterosexual</td>\n",
       "      <td>White or of European descent</td>\n",
       "      <td>None of the above</td>\n",
       "      <td>None of the above</td>\n",
       "      <td>Appropriate in length</td>\n",
       "      <td>Easy</td>\n",
       "      <td>62268.0</td>\n",
       "    </tr>\n",
       "  </tbody>\n",
       "</table>\n",
       "<p>1 rows × 48 columns</p>\n",
       "</div>"
      ],
      "text/plain": [
       "   ResponseId                      MainBranch  \\\n",
       "0           1  I am a developer by profession   \n",
       "\n",
       "                                          Employment   Country US_State  \\\n",
       "0  Independent contractor, freelancer, or self-em...  Slovakia      NaN   \n",
       "\n",
       "  UK_Country                                            EdLevel  \\\n",
       "0        NaN  Secondary school (e.g. American high school, G...   \n",
       "\n",
       "      Age1stCode                                          LearnCode YearsCode  \\\n",
       "0  18 - 24 years  Coding Bootcamp;Other online resources (ex: vi...       NaN   \n",
       "\n",
       "   ...   Age Gender Trans                Sexuality  \\\n",
       "0  ...  25.0    Man    No  Straight / Heterosexual   \n",
       "\n",
       "                      Ethnicity      Accessibility       MentalHealth  \\\n",
       "0  White or of European descent  None of the above  None of the above   \n",
       "\n",
       "            SurveyLength SurveyEase ConvertedCompYearly  \n",
       "0  Appropriate in length       Easy             62268.0  \n",
       "\n",
       "[1 rows x 48 columns]"
      ]
     },
     "execution_count": 12,
     "metadata": {},
     "output_type": "execute_result"
    }
   ],
   "source": [
    "df.head(1)"
   ]
  },
  {
   "cell_type": "markdown",
   "id": "brXql5OYAJAa",
   "metadata": {
    "id": "brXql5OYAJAa"
   },
   "source": [
    "**Drop the following columns: 'US_State','UK_Country' and'Age'**"
   ]
  },
  {
   "cell_type": "code",
   "execution_count": 13,
   "id": "22d84196",
   "metadata": {
    "id": "22d84196"
   },
   "outputs": [
    {
     "data": {
      "text/html": [
       "<div>\n",
       "<style scoped>\n",
       "    .dataframe tbody tr th:only-of-type {\n",
       "        vertical-align: middle;\n",
       "    }\n",
       "\n",
       "    .dataframe tbody tr th {\n",
       "        vertical-align: top;\n",
       "    }\n",
       "\n",
       "    .dataframe thead th {\n",
       "        text-align: right;\n",
       "    }\n",
       "</style>\n",
       "<table border=\"1\" class=\"dataframe\">\n",
       "  <thead>\n",
       "    <tr style=\"text-align: right;\">\n",
       "      <th></th>\n",
       "      <th>ResponseId</th>\n",
       "      <th>MainBranch</th>\n",
       "      <th>Employment</th>\n",
       "      <th>Country</th>\n",
       "      <th>EdLevel</th>\n",
       "      <th>Age1stCode</th>\n",
       "      <th>LearnCode</th>\n",
       "      <th>YearsCode</th>\n",
       "      <th>YearsCodePro</th>\n",
       "      <th>DevType</th>\n",
       "      <th>...</th>\n",
       "      <th>NEWOtherComms</th>\n",
       "      <th>Gender</th>\n",
       "      <th>Trans</th>\n",
       "      <th>Sexuality</th>\n",
       "      <th>Ethnicity</th>\n",
       "      <th>Accessibility</th>\n",
       "      <th>MentalHealth</th>\n",
       "      <th>SurveyLength</th>\n",
       "      <th>SurveyEase</th>\n",
       "      <th>ConvertedCompYearly</th>\n",
       "    </tr>\n",
       "  </thead>\n",
       "  <tbody>\n",
       "    <tr>\n",
       "      <th>0</th>\n",
       "      <td>1</td>\n",
       "      <td>I am a developer by profession</td>\n",
       "      <td>Independent contractor, freelancer, or self-em...</td>\n",
       "      <td>Slovakia</td>\n",
       "      <td>Secondary school (e.g. American high school, G...</td>\n",
       "      <td>18 - 24 years</td>\n",
       "      <td>Coding Bootcamp;Other online resources (ex: vi...</td>\n",
       "      <td>NaN</td>\n",
       "      <td>NaN</td>\n",
       "      <td>Developer, mobile</td>\n",
       "      <td>...</td>\n",
       "      <td>No</td>\n",
       "      <td>Man</td>\n",
       "      <td>No</td>\n",
       "      <td>Straight / Heterosexual</td>\n",
       "      <td>White or of European descent</td>\n",
       "      <td>None of the above</td>\n",
       "      <td>None of the above</td>\n",
       "      <td>Appropriate in length</td>\n",
       "      <td>Easy</td>\n",
       "      <td>62268.0</td>\n",
       "    </tr>\n",
       "    <tr>\n",
       "      <th>1</th>\n",
       "      <td>2</td>\n",
       "      <td>I am a student who is learning to code</td>\n",
       "      <td>Student, full-time</td>\n",
       "      <td>Netherlands</td>\n",
       "      <td>Bachelor’s degree (B.A., B.S., B.Eng., etc.)</td>\n",
       "      <td>11 - 17 years</td>\n",
       "      <td>Other online resources (ex: videos, blogs, etc...</td>\n",
       "      <td>7</td>\n",
       "      <td>NaN</td>\n",
       "      <td>NaN</td>\n",
       "      <td>...</td>\n",
       "      <td>No</td>\n",
       "      <td>Man</td>\n",
       "      <td>No</td>\n",
       "      <td>Straight / Heterosexual</td>\n",
       "      <td>White or of European descent</td>\n",
       "      <td>None of the above</td>\n",
       "      <td>None of the above</td>\n",
       "      <td>Appropriate in length</td>\n",
       "      <td>Easy</td>\n",
       "      <td>NaN</td>\n",
       "    </tr>\n",
       "    <tr>\n",
       "      <th>2</th>\n",
       "      <td>3</td>\n",
       "      <td>I am not primarily a developer, but I write co...</td>\n",
       "      <td>Student, full-time</td>\n",
       "      <td>Russian Federation</td>\n",
       "      <td>Bachelor’s degree (B.A., B.S., B.Eng., etc.)</td>\n",
       "      <td>11 - 17 years</td>\n",
       "      <td>Other online resources (ex: videos, blogs, etc...</td>\n",
       "      <td>NaN</td>\n",
       "      <td>NaN</td>\n",
       "      <td>NaN</td>\n",
       "      <td>...</td>\n",
       "      <td>Yes</td>\n",
       "      <td>Man</td>\n",
       "      <td>No</td>\n",
       "      <td>Prefer not to say</td>\n",
       "      <td>Prefer not to say</td>\n",
       "      <td>None of the above</td>\n",
       "      <td>None of the above</td>\n",
       "      <td>Appropriate in length</td>\n",
       "      <td>Easy</td>\n",
       "      <td>NaN</td>\n",
       "    </tr>\n",
       "    <tr>\n",
       "      <th>3</th>\n",
       "      <td>4</td>\n",
       "      <td>I am a developer by profession</td>\n",
       "      <td>Employed full-time</td>\n",
       "      <td>Austria</td>\n",
       "      <td>Master’s degree (M.A., M.S., M.Eng., MBA, etc.)</td>\n",
       "      <td>11 - 17 years</td>\n",
       "      <td>NaN</td>\n",
       "      <td>NaN</td>\n",
       "      <td>NaN</td>\n",
       "      <td>Developer, front-end</td>\n",
       "      <td>...</td>\n",
       "      <td>No</td>\n",
       "      <td>Man</td>\n",
       "      <td>No</td>\n",
       "      <td>Straight / Heterosexual</td>\n",
       "      <td>White or of European descent</td>\n",
       "      <td>I am deaf / hard of hearing</td>\n",
       "      <td>NaN</td>\n",
       "      <td>Appropriate in length</td>\n",
       "      <td>Neither easy nor difficult</td>\n",
       "      <td>NaN</td>\n",
       "    </tr>\n",
       "    <tr>\n",
       "      <th>4</th>\n",
       "      <td>5</td>\n",
       "      <td>I am a developer by profession</td>\n",
       "      <td>Independent contractor, freelancer, or self-em...</td>\n",
       "      <td>United Kingdom of Great Britain and Northern I...</td>\n",
       "      <td>Master’s degree (M.A., M.S., M.Eng., MBA, etc.)</td>\n",
       "      <td>5 - 10 years</td>\n",
       "      <td>Friend or family member</td>\n",
       "      <td>17</td>\n",
       "      <td>10</td>\n",
       "      <td>Developer, desktop or enterprise applications;...</td>\n",
       "      <td>...</td>\n",
       "      <td>No</td>\n",
       "      <td>Man</td>\n",
       "      <td>No</td>\n",
       "      <td>NaN</td>\n",
       "      <td>White or of European descent</td>\n",
       "      <td>None of the above</td>\n",
       "      <td>NaN</td>\n",
       "      <td>Appropriate in length</td>\n",
       "      <td>Easy</td>\n",
       "      <td>NaN</td>\n",
       "    </tr>\n",
       "    <tr>\n",
       "      <th>...</th>\n",
       "      <td>...</td>\n",
       "      <td>...</td>\n",
       "      <td>...</td>\n",
       "      <td>...</td>\n",
       "      <td>...</td>\n",
       "      <td>...</td>\n",
       "      <td>...</td>\n",
       "      <td>...</td>\n",
       "      <td>...</td>\n",
       "      <td>...</td>\n",
       "      <td>...</td>\n",
       "      <td>...</td>\n",
       "      <td>...</td>\n",
       "      <td>...</td>\n",
       "      <td>...</td>\n",
       "      <td>...</td>\n",
       "      <td>...</td>\n",
       "      <td>...</td>\n",
       "      <td>...</td>\n",
       "      <td>...</td>\n",
       "      <td>...</td>\n",
       "    </tr>\n",
       "    <tr>\n",
       "      <th>83434</th>\n",
       "      <td>83435</td>\n",
       "      <td>I am a developer by profession</td>\n",
       "      <td>Employed full-time</td>\n",
       "      <td>United States of America</td>\n",
       "      <td>Bachelor’s degree (B.A., B.S., B.Eng., etc.)</td>\n",
       "      <td>11 - 17 years</td>\n",
       "      <td>Other online resources (ex: videos, blogs, etc...</td>\n",
       "      <td>6</td>\n",
       "      <td>5</td>\n",
       "      <td>Developer, back-end</td>\n",
       "      <td>...</td>\n",
       "      <td>No</td>\n",
       "      <td>Man</td>\n",
       "      <td>No</td>\n",
       "      <td>Straight / Heterosexual</td>\n",
       "      <td>White or of European descent</td>\n",
       "      <td>None of the above</td>\n",
       "      <td>I have a concentration and/or memory disorder ...</td>\n",
       "      <td>Appropriate in length</td>\n",
       "      <td>Easy</td>\n",
       "      <td>160500.0</td>\n",
       "    </tr>\n",
       "    <tr>\n",
       "      <th>83435</th>\n",
       "      <td>83436</td>\n",
       "      <td>I am a developer by profession</td>\n",
       "      <td>Independent contractor, freelancer, or self-em...</td>\n",
       "      <td>Benin</td>\n",
       "      <td>Bachelor’s degree (B.A., B.S., B.Eng., etc.)</td>\n",
       "      <td>11 - 17 years</td>\n",
       "      <td>Other online resources (ex: videos, blogs, etc...</td>\n",
       "      <td>4</td>\n",
       "      <td>2</td>\n",
       "      <td>Developer, full-stack</td>\n",
       "      <td>...</td>\n",
       "      <td>No</td>\n",
       "      <td>Man</td>\n",
       "      <td>No</td>\n",
       "      <td>Straight / Heterosexual</td>\n",
       "      <td>Black or of African descent</td>\n",
       "      <td>None of the above</td>\n",
       "      <td>None of the above</td>\n",
       "      <td>Appropriate in length</td>\n",
       "      <td>Easy</td>\n",
       "      <td>3960.0</td>\n",
       "    </tr>\n",
       "    <tr>\n",
       "      <th>83436</th>\n",
       "      <td>83437</td>\n",
       "      <td>I am a developer by profession</td>\n",
       "      <td>Employed full-time</td>\n",
       "      <td>United States of America</td>\n",
       "      <td>Secondary school (e.g. American high school, G...</td>\n",
       "      <td>11 - 17 years</td>\n",
       "      <td>School</td>\n",
       "      <td>10</td>\n",
       "      <td>4</td>\n",
       "      <td>Data scientist or machine learning specialist;...</td>\n",
       "      <td>...</td>\n",
       "      <td>No</td>\n",
       "      <td>Man</td>\n",
       "      <td>No</td>\n",
       "      <td>NaN</td>\n",
       "      <td>White or of European descent</td>\n",
       "      <td>None of the above</td>\n",
       "      <td>None of the above</td>\n",
       "      <td>Appropriate in length</td>\n",
       "      <td>Neither easy nor difficult</td>\n",
       "      <td>90000.0</td>\n",
       "    </tr>\n",
       "    <tr>\n",
       "      <th>83437</th>\n",
       "      <td>83438</td>\n",
       "      <td>I am a developer by profession</td>\n",
       "      <td>Employed full-time</td>\n",
       "      <td>Canada</td>\n",
       "      <td>Bachelor’s degree (B.A., B.S., B.Eng., etc.)</td>\n",
       "      <td>11 - 17 years</td>\n",
       "      <td>Online Courses or Certification;Books / Physic...</td>\n",
       "      <td>5</td>\n",
       "      <td>3</td>\n",
       "      <td>Developer, back-end</td>\n",
       "      <td>...</td>\n",
       "      <td>No</td>\n",
       "      <td>Man</td>\n",
       "      <td>No</td>\n",
       "      <td>Straight / Heterosexual</td>\n",
       "      <td>White or of European descent</td>\n",
       "      <td>None of the above</td>\n",
       "      <td>I have a mood or emotional disorder (e.g. depr...</td>\n",
       "      <td>Appropriate in length</td>\n",
       "      <td>Neither easy nor difficult</td>\n",
       "      <td>816816.0</td>\n",
       "    </tr>\n",
       "    <tr>\n",
       "      <th>83438</th>\n",
       "      <td>83439</td>\n",
       "      <td>I am a developer by profession</td>\n",
       "      <td>Employed full-time</td>\n",
       "      <td>Brazil</td>\n",
       "      <td>Professional degree (JD, MD, etc.)</td>\n",
       "      <td>11 - 17 years</td>\n",
       "      <td>School</td>\n",
       "      <td>14</td>\n",
       "      <td>4</td>\n",
       "      <td>Developer, front-end;Developer, full-stack;Dev...</td>\n",
       "      <td>...</td>\n",
       "      <td>No</td>\n",
       "      <td>Man</td>\n",
       "      <td>No</td>\n",
       "      <td>Straight / Heterosexual</td>\n",
       "      <td>Hispanic or Latino/a/x</td>\n",
       "      <td>None of the above</td>\n",
       "      <td>None of the above</td>\n",
       "      <td>Appropriate in length</td>\n",
       "      <td>Easy</td>\n",
       "      <td>21168.0</td>\n",
       "    </tr>\n",
       "  </tbody>\n",
       "</table>\n",
       "<p>83439 rows × 45 columns</p>\n",
       "</div>"
      ],
      "text/plain": [
       "       ResponseId                                         MainBranch  \\\n",
       "0               1                     I am a developer by profession   \n",
       "1               2             I am a student who is learning to code   \n",
       "2               3  I am not primarily a developer, but I write co...   \n",
       "3               4                     I am a developer by profession   \n",
       "4               5                     I am a developer by profession   \n",
       "...           ...                                                ...   \n",
       "83434       83435                     I am a developer by profession   \n",
       "83435       83436                     I am a developer by profession   \n",
       "83436       83437                     I am a developer by profession   \n",
       "83437       83438                     I am a developer by profession   \n",
       "83438       83439                     I am a developer by profession   \n",
       "\n",
       "                                              Employment  \\\n",
       "0      Independent contractor, freelancer, or self-em...   \n",
       "1                                     Student, full-time   \n",
       "2                                     Student, full-time   \n",
       "3                                     Employed full-time   \n",
       "4      Independent contractor, freelancer, or self-em...   \n",
       "...                                                  ...   \n",
       "83434                                 Employed full-time   \n",
       "83435  Independent contractor, freelancer, or self-em...   \n",
       "83436                                 Employed full-time   \n",
       "83437                                 Employed full-time   \n",
       "83438                                 Employed full-time   \n",
       "\n",
       "                                                 Country  \\\n",
       "0                                               Slovakia   \n",
       "1                                            Netherlands   \n",
       "2                                     Russian Federation   \n",
       "3                                                Austria   \n",
       "4      United Kingdom of Great Britain and Northern I...   \n",
       "...                                                  ...   \n",
       "83434                           United States of America   \n",
       "83435                                              Benin   \n",
       "83436                           United States of America   \n",
       "83437                                             Canada   \n",
       "83438                                             Brazil   \n",
       "\n",
       "                                                 EdLevel     Age1stCode  \\\n",
       "0      Secondary school (e.g. American high school, G...  18 - 24 years   \n",
       "1           Bachelor’s degree (B.A., B.S., B.Eng., etc.)  11 - 17 years   \n",
       "2           Bachelor’s degree (B.A., B.S., B.Eng., etc.)  11 - 17 years   \n",
       "3        Master’s degree (M.A., M.S., M.Eng., MBA, etc.)  11 - 17 years   \n",
       "4        Master’s degree (M.A., M.S., M.Eng., MBA, etc.)   5 - 10 years   \n",
       "...                                                  ...            ...   \n",
       "83434       Bachelor’s degree (B.A., B.S., B.Eng., etc.)  11 - 17 years   \n",
       "83435       Bachelor’s degree (B.A., B.S., B.Eng., etc.)  11 - 17 years   \n",
       "83436  Secondary school (e.g. American high school, G...  11 - 17 years   \n",
       "83437       Bachelor’s degree (B.A., B.S., B.Eng., etc.)  11 - 17 years   \n",
       "83438                 Professional degree (JD, MD, etc.)  11 - 17 years   \n",
       "\n",
       "                                               LearnCode YearsCode  \\\n",
       "0      Coding Bootcamp;Other online resources (ex: vi...       NaN   \n",
       "1      Other online resources (ex: videos, blogs, etc...         7   \n",
       "2      Other online resources (ex: videos, blogs, etc...       NaN   \n",
       "3                                                    NaN       NaN   \n",
       "4                                Friend or family member        17   \n",
       "...                                                  ...       ...   \n",
       "83434  Other online resources (ex: videos, blogs, etc...         6   \n",
       "83435  Other online resources (ex: videos, blogs, etc...         4   \n",
       "83436                                             School        10   \n",
       "83437  Online Courses or Certification;Books / Physic...         5   \n",
       "83438                                             School        14   \n",
       "\n",
       "      YearsCodePro                                            DevType  ...  \\\n",
       "0              NaN                                  Developer, mobile  ...   \n",
       "1              NaN                                                NaN  ...   \n",
       "2              NaN                                                NaN  ...   \n",
       "3              NaN                               Developer, front-end  ...   \n",
       "4               10  Developer, desktop or enterprise applications;...  ...   \n",
       "...            ...                                                ...  ...   \n",
       "83434            5                                Developer, back-end  ...   \n",
       "83435            2                              Developer, full-stack  ...   \n",
       "83436            4  Data scientist or machine learning specialist;...  ...   \n",
       "83437            3                                Developer, back-end  ...   \n",
       "83438            4  Developer, front-end;Developer, full-stack;Dev...  ...   \n",
       "\n",
       "      NEWOtherComms Gender  Trans                Sexuality  \\\n",
       "0                No    Man     No  Straight / Heterosexual   \n",
       "1                No    Man     No  Straight / Heterosexual   \n",
       "2               Yes    Man     No        Prefer not to say   \n",
       "3                No    Man     No  Straight / Heterosexual   \n",
       "4                No    Man     No                      NaN   \n",
       "...             ...    ...    ...                      ...   \n",
       "83434            No    Man     No  Straight / Heterosexual   \n",
       "83435            No    Man     No  Straight / Heterosexual   \n",
       "83436            No    Man     No                      NaN   \n",
       "83437            No    Man     No  Straight / Heterosexual   \n",
       "83438            No    Man     No  Straight / Heterosexual   \n",
       "\n",
       "                          Ethnicity                Accessibility  \\\n",
       "0      White or of European descent            None of the above   \n",
       "1      White or of European descent            None of the above   \n",
       "2                 Prefer not to say            None of the above   \n",
       "3      White or of European descent  I am deaf / hard of hearing   \n",
       "4      White or of European descent            None of the above   \n",
       "...                             ...                          ...   \n",
       "83434  White or of European descent            None of the above   \n",
       "83435   Black or of African descent            None of the above   \n",
       "83436  White or of European descent            None of the above   \n",
       "83437  White or of European descent            None of the above   \n",
       "83438        Hispanic or Latino/a/x            None of the above   \n",
       "\n",
       "                                            MentalHealth  \\\n",
       "0                                      None of the above   \n",
       "1                                      None of the above   \n",
       "2                                      None of the above   \n",
       "3                                                    NaN   \n",
       "4                                                    NaN   \n",
       "...                                                  ...   \n",
       "83434  I have a concentration and/or memory disorder ...   \n",
       "83435                                  None of the above   \n",
       "83436                                  None of the above   \n",
       "83437  I have a mood or emotional disorder (e.g. depr...   \n",
       "83438                                  None of the above   \n",
       "\n",
       "                SurveyLength                  SurveyEase ConvertedCompYearly  \n",
       "0      Appropriate in length                        Easy             62268.0  \n",
       "1      Appropriate in length                        Easy                 NaN  \n",
       "2      Appropriate in length                        Easy                 NaN  \n",
       "3      Appropriate in length  Neither easy nor difficult                 NaN  \n",
       "4      Appropriate in length                        Easy                 NaN  \n",
       "...                      ...                         ...                 ...  \n",
       "83434  Appropriate in length                        Easy            160500.0  \n",
       "83435  Appropriate in length                        Easy              3960.0  \n",
       "83436  Appropriate in length  Neither easy nor difficult             90000.0  \n",
       "83437  Appropriate in length  Neither easy nor difficult            816816.0  \n",
       "83438  Appropriate in length                        Easy             21168.0  \n",
       "\n",
       "[83439 rows x 45 columns]"
      ]
     },
     "execution_count": 13,
     "metadata": {},
     "output_type": "execute_result"
    }
   ],
   "source": [
    "df.drop(['US_State', 'UK_Country', 'Age'], axis=1)"
   ]
  },
  {
   "cell_type": "code",
   "execution_count": 14,
   "id": "FSNUNCB18vQt",
   "metadata": {
    "id": "FSNUNCB18vQt"
   },
   "outputs": [
    {
     "name": "stdout",
     "output_type": "stream",
     "text": [
      "<class 'pandas.core.frame.DataFrame'>\n",
      "RangeIndex: 83439 entries, 0 to 83438\n",
      "Data columns (total 48 columns):\n",
      " #   Column                        Non-Null Count  Dtype  \n",
      "---  ------                        --------------  -----  \n",
      " 0   ResponseId                    83439 non-null  int64  \n",
      " 1   MainBranch                    83439 non-null  object \n",
      " 2   Employment                    83323 non-null  object \n",
      " 3   Country                       83439 non-null  object \n",
      " 4   US_State                      14920 non-null  object \n",
      " 5   UK_Country                    4418 non-null   object \n",
      " 6   EdLevel                       83126 non-null  object \n",
      " 7   Age1stCode                    83243 non-null  object \n",
      " 8   LearnCode                     82963 non-null  object \n",
      " 9   YearsCode                     81641 non-null  object \n",
      " 10  YearsCodePro                  61216 non-null  object \n",
      " 11  DevType                       66484 non-null  object \n",
      " 12  OrgSize                       60726 non-null  object \n",
      " 13  Currency                      61080 non-null  object \n",
      " 14  CompTotal                     47183 non-null  float64\n",
      " 15  CompFreq                      52150 non-null  object \n",
      " 16  LanguageHaveWorkedWith        82357 non-null  object \n",
      " 17  LanguageWantToWorkWith        76821 non-null  object \n",
      " 18  DatabaseHaveWorkedWith        69546 non-null  object \n",
      " 19  DatabaseWantToWorkWith        58299 non-null  object \n",
      " 20  PlatformHaveWorkedWith        52135 non-null  object \n",
      " 21  PlatformWantToWorkWith        41619 non-null  object \n",
      " 22  WebframeHaveWorkedWith        61707 non-null  object \n",
      " 23  WebframeWantToWorkWith        52095 non-null  object \n",
      " 24  MiscTechHaveWorkedWith        47055 non-null  object \n",
      " 25  MiscTechWantToWorkWith        38021 non-null  object \n",
      " 26  ToolsTechHaveWorkedWith       72537 non-null  object \n",
      " 27  ToolsTechWantToWorkWith       65480 non-null  object \n",
      " 28  NEWCollabToolsHaveWorkedWith  81234 non-null  object \n",
      " 29  NEWCollabToolsWantToWorkWith  73022 non-null  object \n",
      " 30  OpSys                         83294 non-null  object \n",
      " 31  NEWStuck                      83052 non-null  object \n",
      " 32  NEWSOSites                    83171 non-null  object \n",
      " 33  SOVisitFreq                   82413 non-null  object \n",
      " 34  SOAccount                     82525 non-null  object \n",
      " 35  SOPartFreq                    67553 non-null  object \n",
      " 36  SOComm                        82319 non-null  object \n",
      " 37  NEWOtherComms                 82828 non-null  object \n",
      " 38  Age                           76035 non-null  float64\n",
      " 39  Gender                        82286 non-null  object \n",
      " 40  Trans                         80678 non-null  object \n",
      " 41  Sexuality                     73366 non-null  object \n",
      " 42  Ethnicity                     79464 non-null  object \n",
      " 43  Accessibility                 77603 non-null  object \n",
      " 44  MentalHealth                  76920 non-null  object \n",
      " 45  SurveyLength                  81711 non-null  object \n",
      " 46  SurveyEase                    81948 non-null  object \n",
      " 47  ConvertedCompYearly           46844 non-null  float64\n",
      "dtypes: float64(3), int64(1), object(44)\n",
      "memory usage: 30.6+ MB\n"
     ]
    }
   ],
   "source": [
    "df.info()"
   ]
  },
  {
   "cell_type": "markdown",
   "id": "UshdMS7sAWUQ",
   "metadata": {
    "id": "UshdMS7sAWUQ"
   },
   "source": [
    "**Group your dataframe by country and check the number people in the U.S. responded to the survey**"
   ]
  },
  {
   "cell_type": "code",
   "execution_count": 15,
   "id": "f37d2cba",
   "metadata": {
    "id": "f37d2cba"
   },
   "outputs": [],
   "source": [
    "#to see the all the rows of the value_counts()\n",
    "pd.set_option(\"display.max_rows\", None)"
   ]
  },
  {
   "cell_type": "code",
   "execution_count": 16,
   "id": "8e03dcfb",
   "metadata": {
    "id": "8e03dcfb"
   },
   "outputs": [
    {
     "data": {
      "text/plain": [
       "United States of America                                15288\n",
       "India                                                   10511\n",
       "Germany                                                  5625\n",
       "United Kingdom of Great Britain and Northern Ireland     4475\n",
       "Canada                                                   3012\n",
       "France                                                   2708\n",
       "Brazil                                                   2254\n",
       "Poland                                                   1805\n",
       "Netherlands                                              1772\n",
       "Italy                                                    1666\n",
       "Australia                                                1646\n",
       "Spain                                                    1485\n",
       "Russian Federation                                       1474\n",
       "Sweden                                                   1196\n",
       "China                                                    1055\n",
       "Turkey                                                   1054\n",
       "Switzerland                                               922\n",
       "Israel                                                    913\n",
       "Iran, Islamic Republic of...                              900\n",
       "Pakistan                                                  838\n",
       "Austria                                                   808\n",
       "Czech Republic                                            792\n",
       "Ukraine                                                   770\n",
       "Bangladesh                                                704\n",
       "Belgium                                                   697\n",
       "Mexico                                                    695\n",
       "Romania                                                   650\n",
       "Indonesia                                                 632\n",
       "Greece                                                    603\n",
       "Norway                                                    602\n",
       "Denmark                                                   599\n",
       "Argentina                                                 587\n",
       "South Africa                                              571\n",
       "Portugal                                                  530\n",
       "Finland                                                   528\n",
       "New Zealand                                               522\n",
       "Egypt                                                     521\n",
       "Hungary                                                   478\n",
       "Japan                                                     429\n",
       "Nigeria                                                   409\n",
       "Bulgaria                                                  402\n",
       "Sri Lanka                                                 396\n",
       "Viet Nam                                                  386\n",
       "Ireland                                                   386\n",
       "Philippines                                               382\n",
       "Colombia                                                  381\n",
       "Singapore                                                 339\n",
       "Nepal                                                     337\n",
       "Malaysia                                                  333\n",
       "Serbia                                                    310\n",
       "Taiwan                                                    302\n",
       "Kenya                                                     263\n",
       "Slovakia                                                  252\n",
       "Croatia                                                   250\n",
       "Slovenia                                                  235\n",
       "Chile                                                     230\n",
       "Lithuania                                                 208\n",
       "Morocco                                                   204\n",
       "Hong Kong (S.A.R.)                                        198\n",
       "South Korea                                               189\n",
       "Thailand                                                  184\n",
       "United Arab Emirates                                      182\n",
       "Belarus                                                   165\n",
       "Georgia                                                   161\n",
       "Tunisia                                                   150\n",
       "Peru                                                      147\n",
       "Uruguay                                                   144\n",
       "Saudi Arabia                                              137\n",
       "Bosnia and Herzegovina                                    130\n",
       "Estonia                                                   130\n",
       "Lebanon                                                   113\n",
       "Latvia                                                    107\n",
       "Dominican Republic                                        104\n",
       "Venezuela, Bolivarian Republic of...                      104\n",
       "Ecuador                                                   103\n",
       "Armenia                                                    92\n",
       "Ghana                                                      91\n",
       "Costa Rica                                                 77\n",
       "Iraq                                                       76\n",
       "Albania                                                    73\n",
       "Jordan                                                     72\n",
       "Ethiopia                                                   69\n",
       "Uzbekistan                                                 68\n",
       "Afghanistan                                                65\n",
       "Kazakhstan                                                 65\n",
       "Azerbaijan                                                 64\n",
       "Uganda                                                     63\n",
       "Guatemala                                                  58\n",
       "Cyprus                                                     56\n",
       "Myanmar                                                    55\n",
       "Republic of Moldova                                        55\n",
       "Republic of Korea                                          54\n",
       "Nomadic                                                    54\n",
       "The former Yugoslav Republic of Macedonia                  54\n",
       "Luxembourg                                                 51\n",
       "Syrian Arab Republic                                       51\n",
       "Bolivia                                                    48\n",
       "Paraguay                                                   47\n",
       "Algeria                                                    46\n",
       "Kosovo                                                     45\n",
       "United Republic of Tanzania                                43\n",
       "Iceland                                                    43\n",
       "Malta                                                      42\n",
       "Cameroon                                                   38\n",
       "Zimbabwe                                                   36\n",
       "Cambodia                                                   35\n",
       "Rwanda                                                     34\n",
       "Cuba                                                       34\n",
       "El Salvador                                                32\n",
       "Panama                                                     31\n",
       "Mauritius                                                  31\n",
       "Qatar                                                      29\n",
       "Kuwait                                                     29\n",
       "Bahrain                                                    28\n",
       "Senegal                                                    28\n",
       "Angola                                                     27\n",
       "Sudan                                                      27\n",
       "Palestine                                                  25\n",
       "Honduras                                                   24\n",
       "Zambia                                                     22\n",
       "Mongolia                                                   21\n",
       "Kyrgyzstan                                                 21\n",
       "Jamaica                                                    20\n",
       "Trinidad and Tobago                                        20\n",
       "Yemen                                                      20\n",
       "Oman                                                       20\n",
       "Nicaragua                                                  18\n",
       "Madagascar                                                 18\n",
       "Montenegro                                                 17\n",
       "Côte d'Ivoire                                              17\n",
       "Maldives                                                   16\n",
       "Benin                                                      15\n",
       "Turkmenistan                                               13\n",
       "Mozambique                                                 12\n",
       "Namibia                                                    12\n",
       "Andorra                                                    12\n",
       "Barbados                                                   12\n",
       "Congo, Republic of the...                                  12\n",
       "Libyan Arab Jamahiriya                                     11\n",
       "Malawi                                                     11\n",
       "Democratic Republic of the Congo                           10\n",
       "Swaziland                                                  10\n",
       "Tajikistan                                                  9\n",
       "Bahamas                                                     7\n",
       "Togo                                                        7\n",
       "Somalia                                                     7\n",
       "Guyana                                                      7\n",
       "Botswana                                                    6\n",
       "Cape Verde                                                  6\n",
       "North Korea                                                 6\n",
       "Haiti                                                       5\n",
       "Belize                                                      5\n",
       "Isle of Man                                                 5\n",
       "Mauritania                                                  5\n",
       "Bhutan                                                      5\n",
       "Suriname                                                    5\n",
       "Burundi                                                     5\n",
       "Fiji                                                        4\n",
       "Burkina Faso                                                4\n",
       "Lesotho                                                     4\n",
       "Lao People's Democratic Republic                            4\n",
       "Niger                                                       3\n",
       "Central African Republic                                    3\n",
       "Liberia                                                     3\n",
       "Saint Lucia                                                 3\n",
       "Djibouti                                                    3\n",
       "San Marino                                                  2\n",
       "Guinea                                                      2\n",
       "Sierra Leone                                                2\n",
       "Micronesia, Federated States of...                          2\n",
       "Chad                                                        2\n",
       "Gambia                                                      2\n",
       "Monaco                                                      2\n",
       "Mali                                                        2\n",
       "Brunei Darussalam                                           1\n",
       "Liechtenstein                                               1\n",
       "Saint Kitts and Nevis                                       1\n",
       "Dominica                                                    1\n",
       "Saint Vincent and the Grenadines                            1\n",
       "Tuvalu                                                      1\n",
       "Papua New Guinea                                            1\n",
       "Name: Country, dtype: int64"
      ]
     },
     "execution_count": 16,
     "metadata": {},
     "output_type": "execute_result"
    }
   ],
   "source": [
    "df['Country'].value_counts()"
   ]
  },
  {
   "cell_type": "markdown",
   "id": "20orDugxAro6",
   "metadata": {
    "id": "20orDugxAro6"
   },
   "source": [
    "Q) What is the median salary of the developer in **<br>'United States of America',<br>\n",
    "'United Kingdom of Great Britain and Northern Ireland',<br> 'Canada',<br>'Germany',<br>'India',<br>'France'?**"
   ]
  },
  {
   "cell_type": "code",
   "execution_count": 17,
   "id": "08499457",
   "metadata": {
    "id": "08499457"
   },
   "outputs": [
    {
     "data": {
      "text/plain": [
       "Country\n",
       "Canada                                                   75631.0\n",
       "France                                                   48936.0\n",
       "Germany                                                  64859.0\n",
       "India                                                    14748.0\n",
       "United Kingdom of Great Britain and Northern Ireland     74970.0\n",
       "United States of America                                125000.0\n",
       "Name: ConvertedCompYearly, dtype: float64"
      ]
     },
     "execution_count": 17,
     "metadata": {},
     "output_type": "execute_result"
    }
   ],
   "source": [
    "df_countries = df.loc[df['Country'].isin(['United States of America','United Kingdom of Great Britain and Northern Ireland','Canada','Germany','India', 'France'])]\n",
    "\n",
    "df_countries.groupby('Country')['ConvertedCompYearly'].median()"
   ]
  },
  {
   "cell_type": "code",
   "execution_count": 18,
   "id": "ec77da04",
   "metadata": {
    "id": "ec77da04"
   },
   "outputs": [
    {
     "data": {
      "text/html": [
       "<div>\n",
       "<style scoped>\n",
       "    .dataframe tbody tr th:only-of-type {\n",
       "        vertical-align: middle;\n",
       "    }\n",
       "\n",
       "    .dataframe tbody tr th {\n",
       "        vertical-align: top;\n",
       "    }\n",
       "\n",
       "    .dataframe thead th {\n",
       "        text-align: right;\n",
       "    }\n",
       "</style>\n",
       "<table border=\"1\" class=\"dataframe\">\n",
       "  <thead>\n",
       "    <tr style=\"text-align: right;\">\n",
       "      <th></th>\n",
       "      <th>median</th>\n",
       "      <th>mean</th>\n",
       "    </tr>\n",
       "    <tr>\n",
       "      <th>Country</th>\n",
       "      <th></th>\n",
       "      <th></th>\n",
       "    </tr>\n",
       "  </thead>\n",
       "  <tbody>\n",
       "    <tr>\n",
       "      <th>Canada</th>\n",
       "      <td>75631.0</td>\n",
       "      <td>135732.563006</td>\n",
       "    </tr>\n",
       "    <tr>\n",
       "      <th>France</th>\n",
       "      <td>48936.0</td>\n",
       "      <td>90213.514670</td>\n",
       "    </tr>\n",
       "    <tr>\n",
       "      <th>Germany</th>\n",
       "      <td>64859.0</td>\n",
       "      <td>103014.516754</td>\n",
       "    </tr>\n",
       "    <tr>\n",
       "      <th>India</th>\n",
       "      <td>14748.0</td>\n",
       "      <td>42522.583464</td>\n",
       "    </tr>\n",
       "    <tr>\n",
       "      <th>United Kingdom of Great Britain and Northern Ireland</th>\n",
       "      <td>74970.0</td>\n",
       "      <td>141688.554608</td>\n",
       "    </tr>\n",
       "    <tr>\n",
       "      <th>United States of America</th>\n",
       "      <td>125000.0</td>\n",
       "      <td>262993.898480</td>\n",
       "    </tr>\n",
       "  </tbody>\n",
       "</table>\n",
       "</div>"
      ],
      "text/plain": [
       "                                                      median           mean\n",
       "Country                                                                    \n",
       "Canada                                               75631.0  135732.563006\n",
       "France                                               48936.0   90213.514670\n",
       "Germany                                              64859.0  103014.516754\n",
       "India                                                14748.0   42522.583464\n",
       "United Kingdom of Great Britain and Northern Ir...   74970.0  141688.554608\n",
       "United States of America                            125000.0  262993.898480"
      ]
     },
     "execution_count": 18,
     "metadata": {},
     "output_type": "execute_result"
    }
   ],
   "source": [
    "#Mean and Median\n",
    "df_countries.groupby('Country')['ConvertedCompYearly'].agg(['median','mean'])"
   ]
  },
  {
   "cell_type": "markdown",
   "id": "XLuuYuLnBOIC",
   "metadata": {
    "id": "XLuuYuLnBOIC"
   },
   "source": [
    "**How many people in the US work with Python?**"
   ]
  },
  {
   "cell_type": "code",
   "execution_count": 19,
   "id": "db74057b",
   "metadata": {
    "id": "db74057b"
   },
   "outputs": [
    {
     "data": {
      "text/plain": [
       "(15288, 48)"
      ]
     },
     "execution_count": 19,
     "metadata": {},
     "output_type": "execute_result"
    }
   ],
   "source": [
    "USA_df = df[df['Country']=='United States of America']\n",
    "USA_df.shape"
   ]
  },
  {
   "cell_type": "code",
   "execution_count": 20,
   "id": "V9SomFmhkhFW",
   "metadata": {
    "id": "V9SomFmhkhFW"
   },
   "outputs": [
    {
     "data": {
      "text/plain": [
       "7975"
      ]
     },
     "execution_count": 20,
     "metadata": {},
     "output_type": "execute_result"
    }
   ],
   "source": [
    "Python_Users_USA = USA_df['LanguageHaveWorkedWith'].str.contains('Python').value_counts()[True]\n",
    "Python_Users_USA"
   ]
  },
  {
   "cell_type": "markdown",
   "id": "VjIespcnBnKM",
   "metadata": {
    "id": "VjIespcnBnKM"
   },
   "source": [
    "**Reproduce the following**"
   ]
  },
  {
   "cell_type": "code",
   "execution_count": 21,
   "id": "333897f9",
   "metadata": {
    "id": "333897f9"
   },
   "outputs": [
    {
     "data": {
      "image/png": "[encoded data removed]",
      "text/plain": [
       "<Figure size 1800x1440 with 1 Axes>"
      ]
     },
     "metadata": {},
     "output_type": "display_data"
    }
   ],
   "source": [
    "median_salaries = df_countries.groupby('Country')['ConvertedCompYearly'].median()\n",
    "median_salaries.plot.pie(figsize=(25, 20));"
   ]
  },
  {
   "cell_type": "markdown",
   "id": "2PXapUlZBhEQ",
   "metadata": {
    "id": "2PXapUlZBhEQ"
   },
   "source": [
    "**Reproduce the following plot of US developer aga in the x-axis and their salary in the y-axis**"
   ]
  },
  {
   "cell_type": "markdown",
   "id": "vsaJhubWBary",
   "metadata": {
    "id": "vsaJhubWBary"
   },
   "source": [
    "**Using Seaborn**"
   ]
  },
  {
   "cell_type": "code",
   "execution_count": 22,
   "id": "uy-zow_l5V58",
   "metadata": {
    "id": "uy-zow_l5V58"
   },
   "outputs": [
    {
     "data": {
      "image/png": "[encoded data removed]",
      "text/plain": [
       "<Figure size 1080x720 with 1 Axes>"
      ]
     },
     "metadata": {
      "needs_background": "light"
     },
     "output_type": "display_data"
    }
   ],
   "source": [
    "plt.rcParams[\"figure.figsize\"] = (15,10)\n",
    "\n",
    "sns.barplot(x = 'Age', y = 'ConvertedCompYearly', data = USA_df)\n",
    "sns.despine()\n",
    "plt.show()"
   ]
  },
  {
   "cell_type": "markdown",
   "id": "VB1NvKyhBtNk",
   "metadata": {
    "id": "VB1NvKyhBtNk"
   },
   "source": [
    "**Using Matplotlib**"
   ]
  },
  {
   "cell_type": "code",
   "execution_count": 24,
   "id": "0904c9a8",
   "metadata": {
    "id": "0904c9a8"
   },
   "outputs": [
    {
     "data": {
      "image/png": "[encoded data removed]",
      "text/plain": [
       "<Figure size 1080x720 with 1 Axes>"
      ]
     },
     "metadata": {
      "needs_background": "light"
     },
     "output_type": "display_data"
    }
   ],
   "source": [
    "US_developer_AgeGroupby = df_countries.groupby('Age')['ConvertedCompYearly'].mean()\n",
    "color_palette = ['#90EE90', '#808000', '#FF7F50', '#A020F0', 'orange']\n",
    "plt.ylabel('ConvertedCompYearly')\n",
    "US_developer_AgeGroupby.plot.bar(figsize=(15, 10), color=color_palette);"
   ]
  },
  {
   "cell_type": "markdown",
   "id": "gbrFxxv5Bzul",
   "metadata": {
    "id": "gbrFxxv5Bzul"
   },
   "source": [
    "**Same thing for Zimbawe**"
   ]
  },
  {
   "cell_type": "code",
   "execution_count": 25,
   "id": "ba32ad5d",
   "metadata": {
    "id": "ba32ad5d"
   },
   "outputs": [
    {
     "data": {
      "image/png": "[encoded data removed]",
      "text/plain": [
       "<Figure size 720x576 with 1 Axes>"
      ]
     },
     "metadata": {
      "needs_background": "light"
     },
     "output_type": "display_data"
    }
   ],
   "source": [
    "zimbabwe_df = df[df['Country']=='Zimbabwe']\n",
    "\n",
    "plt.rcParams[\"figure.figsize\"] = (10,8)\n",
    "sns.barplot(x = 'Age', y = 'ConvertedCompYearly',data = zimbabwe_df,palette='deep')\n",
    "sns.despine(left=True)"
   ]
  },
  {
   "cell_type": "markdown",
   "id": "q0eQ-PCSB2_p",
   "metadata": {
    "id": "q0eQ-PCSB2_p"
   },
   "source": [
    "**Produce the following, which represent the first 20 NEWStuck in Zimbawe**"
   ]
  },
  {
   "cell_type": "code",
   "execution_count": 26,
   "id": "76675d36",
   "metadata": {
    "id": "76675d36"
   },
   "outputs": [
    {
     "data": {
      "text/plain": [
       "8034     Visit Stack Overflow;Google it;Watch help / tu...\n",
       "13194    Visit Stack Overflow;Google it;Watch help / tu...\n",
       "13273    Call a coworker or friend;Visit Stack Overflow...\n",
       "13395    Visit Stack Overflow;Go for a walk or other ph...\n",
       "22782               Google it;Watch help / tutorial videos\n",
       "27472    Visit Stack Overflow;Google it;Watch help / tu...\n",
       "29070    Visit Stack Overflow;Google it;Watch help / tu...\n",
       "29692    Call a coworker or friend;Visit Stack Overflow...\n",
       "31652    Visit Stack Overflow;Go for a walk or other ph...\n",
       "38428    Visit Stack Overflow;Go for a walk or other ph...\n",
       "39746    Visit Stack Overflow;Go for a walk or other ph...\n",
       "39906    Visit Stack Overflow;Google it;Do other work a...\n",
       "41503    Visit Stack Overflow;Google it;Do other work a...\n",
       "44094    Call a coworker or friend;Visit Stack Overflow...\n",
       "46663                                            Google it\n",
       "46797    Call a coworker or friend;Visit Stack Overflow...\n",
       "50221    Visit Stack Overflow;Watch help / tutorial vid...\n",
       "54148    Call a coworker or friend;Visit Stack Overflow...\n",
       "55450    Visit Stack Overflow;Go for a walk or other ph...\n",
       "56302                 Visit Stack Overflow;Google it;Panic\n",
       "Name: NEWStuck, dtype: object"
      ]
     },
     "execution_count": 26,
     "metadata": {},
     "output_type": "execute_result"
    }
   ],
   "source": [
    "top_20_NEWStuck_zimbabwe = zimbabwe_df['NEWStuck'].head(20)\n",
    "top_20_NEWStuck_zimbabwe"
   ]
  },
  {
   "cell_type": "markdown",
   "id": "h9dnEFpuB72e",
   "metadata": {
    "id": "h9dnEFpuB72e"
   },
   "source": [
    "**How many people responded to the survey?**"
   ]
  },
  {
   "cell_type": "code",
   "execution_count": null,
   "id": "7bbfd0e2",
   "metadata": {
    "id": "7bbfd0e2"
   },
   "outputs": [],
   "source": [
    "df['Country'].value_counts()"
   ]
  },
  {
   "cell_type": "code",
   "execution_count": null,
   "id": "UjMEwDaOCdgC",
   "metadata": {
    "id": "UjMEwDaOCdgC"
   },
   "outputs": [],
   "source": [
    "number_repondents = df['Country'].value_counts()"
   ]
  },
  {
   "cell_type": "markdown",
   "id": "I5hYA4SuCC0U",
   "metadata": {
    "id": "I5hYA4SuCC0U"
   },
   "source": [
    "**How many developers use Python Worldwide?**"
   ]
  },
  {
   "cell_type": "code",
   "execution_count": null,
   "id": "0e6367aa",
   "metadata": {
    "id": "0e6367aa"
   },
   "outputs": [],
   "source": [
    "know_python = df['LanguageHaveWorkedWith'].str.contains('Python', na=False).groupby(df['Country']).sum()\n",
    "know_python"
   ]
  },
  {
   "cell_type": "markdown",
   "id": "fCCu44X7CH1c",
   "metadata": {
    "id": "fCCu44X7CH1c"
   },
   "source": [
    "**Concatinate the number of people who reponded to the survey the one who know Python in one dataframe called python_df**"
   ]
  },
  {
   "cell_type": "code",
   "execution_count": null,
   "id": "6553167c",
   "metadata": {
    "id": "6553167c"
   },
   "outputs": [],
   "source": [
    "python_df = pd.concat([number_repondents,know_python ],axis=1)\n",
    "python_df.head()\n"
   ]
  },
  {
   "cell_type": "markdown",
   "id": "-OraOXO9CMhq",
   "metadata": {
    "id": "-OraOXO9CMhq"
   },
   "source": [
    "**add a new feature called percentage**"
   ]
  },
  {
   "cell_type": "code",
   "execution_count": null,
   "id": "ca41821e",
   "metadata": {
    "id": "ca41821e"
   },
   "outputs": [],
   "source": [
    "python_df['percentage'] = python_df['LanguageHaveWorkedWith'] / python_df['Country']\n",
    "python_df"
   ]
  },
  {
   "cell_type": "code",
   "execution_count": null,
   "id": "010c9097",
   "metadata": {
    "id": "010c9097"
   },
   "outputs": [],
   "source": [
    "python_df.head(5)"
   ]
  },
  {
   "cell_type": "code",
   "execution_count": null,
   "id": "40270403",
   "metadata": {
    "id": "40270403"
   },
   "outputs": [],
   "source": [
    "#Rename the columns\n",
    "python_df.rename(columns={'Country':'TotalRespondents', 'LanguageHaveWorkedWith':'NumbKnowsPython', 'percentage':'PercentDevKnowPython'}, inplace=True)"
   ]
  },
  {
   "cell_type": "code",
   "execution_count": null,
   "id": "e515fce9",
   "metadata": {
    "id": "e515fce9"
   },
   "outputs": [],
   "source": [
    "python_df.head(50)"
   ]
  },
  {
   "cell_type": "code",
   "execution_count": null,
   "id": "63dace0b",
   "metadata": {
    "id": "63dace0b"
   },
   "outputs": [],
   "source": [
    "#Surprise me with some plot off this later dataframe"
   ]
  },
  {
   "cell_type": "markdown",
   "id": "3389558e",
   "metadata": {
    "id": "3389558e"
   },
   "source": [
    "**Big Cheers to the Team 'Almost DataScientist'**"
   ]
  }
 ],
 "metadata": {
  "colab": {
   "provenance": []
  },
  "kernelspec": {
   "display_name": "Python 3 (ipykernel)",
   "language": "python",
   "name": "python3"
  },
  "language_info": {
   "codemirror_mode": {
    "name": "ipython",
    "version": 3
   },
   "file_extension": ".py",
   "mimetype": "text/x-python",
   "name": "python",
   "nbconvert_exporter": "python",
   "pygments_lexer": "ipython3",
   "version": "3.9.7"
  }
 },
 "nbformat": 4,
 "nbformat_minor": 5
}
